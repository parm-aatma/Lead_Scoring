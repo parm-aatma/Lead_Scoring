{
 "cells": [
  {
   "cell_type": "code",
   "execution_count": 1,
   "id": "e3123860",
   "metadata": {},
   "outputs": [],
   "source": [
    "#importing the required libraries\n",
    "import numpy as np\n",
    "import pandas as pd\n",
    "import matplotlib.pyplot as plt\n",
    "import seaborn as sns\n",
    "\n",
    "from sklearn.model_selection import train_test_split\n",
    "from sklearn.preprocessing import StandardScaler\n",
    "\n",
    "import statsmodels.api as sm\n",
    "\n",
    "from sklearn import metrics\n",
    "\n",
    "from sklearn.linear_model import LogisticRegression\n",
    "from sklearn.feature_selection import RFE\n",
    "from sklearn.metrics import confusion_matrix\n",
    "\n",
    "import warnings\n",
    "warnings.filterwarnings('ignore')\n",
    "\n",
    "data_location='C:/Users/pande/OneDrive/Desktop/Lead Scoring Assignment/Leads.csv'"
   ]
  },
  {
   "cell_type": "code",
   "execution_count": 2,
   "id": "de1e9ea0",
   "metadata": {
    "scrolled": true
   },
   "outputs": [
    {
     "name": "stdout",
     "output_type": "stream",
     "text": [
      "(9240, 37)\n"
     ]
    },
    {
     "data": {
      "text/html": [
       "<div>\n",
       "<style scoped>\n",
       "    .dataframe tbody tr th:only-of-type {\n",
       "        vertical-align: middle;\n",
       "    }\n",
       "\n",
       "    .dataframe tbody tr th {\n",
       "        vertical-align: top;\n",
       "    }\n",
       "\n",
       "    .dataframe thead th {\n",
       "        text-align: right;\n",
       "    }\n",
       "</style>\n",
       "<table border=\"1\" class=\"dataframe\">\n",
       "  <thead>\n",
       "    <tr style=\"text-align: right;\">\n",
       "      <th></th>\n",
       "      <th>Prospect ID</th>\n",
       "      <th>Lead Number</th>\n",
       "      <th>Lead Origin</th>\n",
       "      <th>Lead Source</th>\n",
       "      <th>Do Not Email</th>\n",
       "      <th>Do Not Call</th>\n",
       "      <th>Converted</th>\n",
       "      <th>TotalVisits</th>\n",
       "      <th>Total Time Spent on Website</th>\n",
       "      <th>Page Views Per Visit</th>\n",
       "      <th>...</th>\n",
       "      <th>Get updates on DM Content</th>\n",
       "      <th>Lead Profile</th>\n",
       "      <th>City</th>\n",
       "      <th>Asymmetrique Activity Index</th>\n",
       "      <th>Asymmetrique Profile Index</th>\n",
       "      <th>Asymmetrique Activity Score</th>\n",
       "      <th>Asymmetrique Profile Score</th>\n",
       "      <th>I agree to pay the amount through cheque</th>\n",
       "      <th>A free copy of Mastering The Interview</th>\n",
       "      <th>Last Notable Activity</th>\n",
       "    </tr>\n",
       "  </thead>\n",
       "  <tbody>\n",
       "    <tr>\n",
       "      <th>0</th>\n",
       "      <td>7927b2df-8bba-4d29-b9a2-b6e0beafe620</td>\n",
       "      <td>660737</td>\n",
       "      <td>API</td>\n",
       "      <td>Olark Chat</td>\n",
       "      <td>No</td>\n",
       "      <td>No</td>\n",
       "      <td>0</td>\n",
       "      <td>0.0</td>\n",
       "      <td>0</td>\n",
       "      <td>0.0</td>\n",
       "      <td>...</td>\n",
       "      <td>No</td>\n",
       "      <td>Select</td>\n",
       "      <td>Select</td>\n",
       "      <td>02.Medium</td>\n",
       "      <td>02.Medium</td>\n",
       "      <td>15.0</td>\n",
       "      <td>15.0</td>\n",
       "      <td>No</td>\n",
       "      <td>No</td>\n",
       "      <td>Modified</td>\n",
       "    </tr>\n",
       "    <tr>\n",
       "      <th>1</th>\n",
       "      <td>2a272436-5132-4136-86fa-dcc88c88f482</td>\n",
       "      <td>660728</td>\n",
       "      <td>API</td>\n",
       "      <td>Organic Search</td>\n",
       "      <td>No</td>\n",
       "      <td>No</td>\n",
       "      <td>0</td>\n",
       "      <td>5.0</td>\n",
       "      <td>674</td>\n",
       "      <td>2.5</td>\n",
       "      <td>...</td>\n",
       "      <td>No</td>\n",
       "      <td>Select</td>\n",
       "      <td>Select</td>\n",
       "      <td>02.Medium</td>\n",
       "      <td>02.Medium</td>\n",
       "      <td>15.0</td>\n",
       "      <td>15.0</td>\n",
       "      <td>No</td>\n",
       "      <td>No</td>\n",
       "      <td>Email Opened</td>\n",
       "    </tr>\n",
       "    <tr>\n",
       "      <th>2</th>\n",
       "      <td>8cc8c611-a219-4f35-ad23-fdfd2656bd8a</td>\n",
       "      <td>660727</td>\n",
       "      <td>Landing Page Submission</td>\n",
       "      <td>Direct Traffic</td>\n",
       "      <td>No</td>\n",
       "      <td>No</td>\n",
       "      <td>1</td>\n",
       "      <td>2.0</td>\n",
       "      <td>1532</td>\n",
       "      <td>2.0</td>\n",
       "      <td>...</td>\n",
       "      <td>No</td>\n",
       "      <td>Potential Lead</td>\n",
       "      <td>Mumbai</td>\n",
       "      <td>02.Medium</td>\n",
       "      <td>01.High</td>\n",
       "      <td>14.0</td>\n",
       "      <td>20.0</td>\n",
       "      <td>No</td>\n",
       "      <td>Yes</td>\n",
       "      <td>Email Opened</td>\n",
       "    </tr>\n",
       "    <tr>\n",
       "      <th>3</th>\n",
       "      <td>0cc2df48-7cf4-4e39-9de9-19797f9b38cc</td>\n",
       "      <td>660719</td>\n",
       "      <td>Landing Page Submission</td>\n",
       "      <td>Direct Traffic</td>\n",
       "      <td>No</td>\n",
       "      <td>No</td>\n",
       "      <td>0</td>\n",
       "      <td>1.0</td>\n",
       "      <td>305</td>\n",
       "      <td>1.0</td>\n",
       "      <td>...</td>\n",
       "      <td>No</td>\n",
       "      <td>Select</td>\n",
       "      <td>Mumbai</td>\n",
       "      <td>02.Medium</td>\n",
       "      <td>01.High</td>\n",
       "      <td>13.0</td>\n",
       "      <td>17.0</td>\n",
       "      <td>No</td>\n",
       "      <td>No</td>\n",
       "      <td>Modified</td>\n",
       "    </tr>\n",
       "    <tr>\n",
       "      <th>4</th>\n",
       "      <td>3256f628-e534-4826-9d63-4a8b88782852</td>\n",
       "      <td>660681</td>\n",
       "      <td>Landing Page Submission</td>\n",
       "      <td>Google</td>\n",
       "      <td>No</td>\n",
       "      <td>No</td>\n",
       "      <td>1</td>\n",
       "      <td>2.0</td>\n",
       "      <td>1428</td>\n",
       "      <td>1.0</td>\n",
       "      <td>...</td>\n",
       "      <td>No</td>\n",
       "      <td>Select</td>\n",
       "      <td>Mumbai</td>\n",
       "      <td>02.Medium</td>\n",
       "      <td>01.High</td>\n",
       "      <td>15.0</td>\n",
       "      <td>18.0</td>\n",
       "      <td>No</td>\n",
       "      <td>No</td>\n",
       "      <td>Modified</td>\n",
       "    </tr>\n",
       "  </tbody>\n",
       "</table>\n",
       "<p>5 rows × 37 columns</p>\n",
       "</div>"
      ],
      "text/plain": [
       "                            Prospect ID  Lead Number              Lead Origin  \\\n",
       "0  7927b2df-8bba-4d29-b9a2-b6e0beafe620       660737                      API   \n",
       "1  2a272436-5132-4136-86fa-dcc88c88f482       660728                      API   \n",
       "2  8cc8c611-a219-4f35-ad23-fdfd2656bd8a       660727  Landing Page Submission   \n",
       "3  0cc2df48-7cf4-4e39-9de9-19797f9b38cc       660719  Landing Page Submission   \n",
       "4  3256f628-e534-4826-9d63-4a8b88782852       660681  Landing Page Submission   \n",
       "\n",
       "      Lead Source Do Not Email Do Not Call  Converted  TotalVisits  \\\n",
       "0      Olark Chat           No          No          0          0.0   \n",
       "1  Organic Search           No          No          0          5.0   \n",
       "2  Direct Traffic           No          No          1          2.0   \n",
       "3  Direct Traffic           No          No          0          1.0   \n",
       "4          Google           No          No          1          2.0   \n",
       "\n",
       "   Total Time Spent on Website  Page Views Per Visit  ...  \\\n",
       "0                            0                   0.0  ...   \n",
       "1                          674                   2.5  ...   \n",
       "2                         1532                   2.0  ...   \n",
       "3                          305                   1.0  ...   \n",
       "4                         1428                   1.0  ...   \n",
       "\n",
       "  Get updates on DM Content    Lead Profile    City  \\\n",
       "0                        No          Select  Select   \n",
       "1                        No          Select  Select   \n",
       "2                        No  Potential Lead  Mumbai   \n",
       "3                        No          Select  Mumbai   \n",
       "4                        No          Select  Mumbai   \n",
       "\n",
       "  Asymmetrique Activity Index Asymmetrique Profile Index  \\\n",
       "0                   02.Medium                  02.Medium   \n",
       "1                   02.Medium                  02.Medium   \n",
       "2                   02.Medium                    01.High   \n",
       "3                   02.Medium                    01.High   \n",
       "4                   02.Medium                    01.High   \n",
       "\n",
       "  Asymmetrique Activity Score Asymmetrique Profile Score  \\\n",
       "0                        15.0                       15.0   \n",
       "1                        15.0                       15.0   \n",
       "2                        14.0                       20.0   \n",
       "3                        13.0                       17.0   \n",
       "4                        15.0                       18.0   \n",
       "\n",
       "  I agree to pay the amount through cheque  \\\n",
       "0                                       No   \n",
       "1                                       No   \n",
       "2                                       No   \n",
       "3                                       No   \n",
       "4                                       No   \n",
       "\n",
       "  A free copy of Mastering The Interview Last Notable Activity  \n",
       "0                                     No              Modified  \n",
       "1                                     No          Email Opened  \n",
       "2                                    Yes          Email Opened  \n",
       "3                                     No              Modified  \n",
       "4                                     No              Modified  \n",
       "\n",
       "[5 rows x 37 columns]"
      ]
     },
     "execution_count": 2,
     "metadata": {},
     "output_type": "execute_result"
    }
   ],
   "source": [
    "#importing the dataset, checking the shape and viewing it.\n",
    "df=pd.read_csv(data_location)\n",
    "print(df.shape)\n",
    "df.head()"
   ]
  },
  {
   "cell_type": "markdown",
   "id": "cded6aa1",
   "metadata": {},
   "source": [
    "# DATA CLEANING"
   ]
  },
  {
   "cell_type": "code",
   "execution_count": 3,
   "id": "76629058",
   "metadata": {},
   "outputs": [],
   "source": [
    "#Removing Lead Number and Prospect ID as they don't add any value to the analysis\n",
    "df.drop(['Prospect ID','Lead Number'],inplace=True,axis=1)"
   ]
  },
  {
   "cell_type": "code",
   "execution_count": 4,
   "id": "f12cc723",
   "metadata": {
    "scrolled": true
   },
   "outputs": [
    {
     "data": {
      "text/plain": [
       "Lead Origin                                         5\n",
       "Lead Source                                        21\n",
       "Do Not Email                                        2\n",
       "Do Not Call                                         2\n",
       "Converted                                           2\n",
       "TotalVisits                                        41\n",
       "Total Time Spent on Website                      1731\n",
       "Page Views Per Visit                              114\n",
       "Last Activity                                      17\n",
       "Country                                            38\n",
       "Specialization                                     19\n",
       "How did you hear about X Education                 10\n",
       "What is your current occupation                     6\n",
       "What matters most to you in choosing a course       3\n",
       "Search                                              2\n",
       "Magazine                                            1\n",
       "Newspaper Article                                   2\n",
       "X Education Forums                                  2\n",
       "Newspaper                                           2\n",
       "Digital Advertisement                               2\n",
       "Through Recommendations                             2\n",
       "Receive More Updates About Our Courses              1\n",
       "Tags                                               26\n",
       "Lead Quality                                        5\n",
       "Update me on Supply Chain Content                   1\n",
       "Get updates on DM Content                           1\n",
       "Lead Profile                                        6\n",
       "City                                                7\n",
       "Asymmetrique Activity Index                         3\n",
       "Asymmetrique Profile Index                          3\n",
       "Asymmetrique Activity Score                        12\n",
       "Asymmetrique Profile Score                         10\n",
       "I agree to pay the amount through cheque            1\n",
       "A free copy of Mastering The Interview              2\n",
       "Last Notable Activity                              16\n",
       "dtype: int64"
      ]
     },
     "execution_count": 4,
     "metadata": {},
     "output_type": "execute_result"
    }
   ],
   "source": [
    "#Checking unique values in the columns\n",
    "df.nunique()"
   ]
  },
  {
   "cell_type": "markdown",
   "id": "c9ce12c0",
   "metadata": {},
   "source": [
    "There are few features with only one unique value. There are chances that if they have missing values, the availablity and non-availablity of data may hold a meaning. Otherwise the columns will be meaningless."
   ]
  },
  {
   "cell_type": "code",
   "execution_count": 5,
   "id": "a3f4f205",
   "metadata": {},
   "outputs": [
    {
     "data": {
      "text/plain": [
       "Lead Origin                                      False\n",
       "Lead Source                                      False\n",
       "Do Not Email                                     False\n",
       "Do Not Call                                      False\n",
       "Converted                                        False\n",
       "TotalVisits                                      False\n",
       "Total Time Spent on Website                      False\n",
       "Page Views Per Visit                             False\n",
       "Last Activity                                    False\n",
       "Country                                          False\n",
       "Specialization                                   False\n",
       "How did you hear about X Education               False\n",
       "What is your current occupation                  False\n",
       "What matters most to you in choosing a course    False\n",
       "Search                                           False\n",
       "Magazine                                          True\n",
       "Newspaper Article                                False\n",
       "X Education Forums                               False\n",
       "Newspaper                                        False\n",
       "Digital Advertisement                            False\n",
       "Through Recommendations                          False\n",
       "Receive More Updates About Our Courses            True\n",
       "Tags                                             False\n",
       "Lead Quality                                     False\n",
       "Update me on Supply Chain Content                 True\n",
       "Get updates on DM Content                         True\n",
       "Lead Profile                                     False\n",
       "City                                             False\n",
       "Asymmetrique Activity Index                      False\n",
       "Asymmetrique Profile Index                       False\n",
       "Asymmetrique Activity Score                      False\n",
       "Asymmetrique Profile Score                       False\n",
       "I agree to pay the amount through cheque          True\n",
       "A free copy of Mastering The Interview           False\n",
       "Last Notable Activity                            False\n",
       "dtype: bool"
      ]
     },
     "execution_count": 5,
     "metadata": {},
     "output_type": "execute_result"
    }
   ],
   "source": [
    "#Searching for the features with one unique value and no missing values\n",
    "(df.nunique()==1) & (df.isna().sum()==0)"
   ]
  },
  {
   "cell_type": "code",
   "execution_count": 6,
   "id": "85ed06b4",
   "metadata": {},
   "outputs": [],
   "source": [
    "#Dropping the columns with single unique value and no \n",
    "df.drop(['Magazine','Receive More Updates About Our Courses',\n",
    "         'Update me on Supply Chain Content','Get updates on DM Content',\n",
    "         'I agree to pay the amount through cheque'],axis=1,inplace=True)"
   ]
  },
  {
   "cell_type": "code",
   "execution_count": 7,
   "id": "03e32176",
   "metadata": {},
   "outputs": [
    {
     "name": "stdout",
     "output_type": "stream",
     "text": [
      "Numerical: 6\n",
      "Categorical: 24\n"
     ]
    }
   ],
   "source": [
    "#Figuring out categorical and numerical values\n",
    "\n",
    "numerical=df.select_dtypes(include='number')\n",
    "categorical=df.select_dtypes(exclude='number')\n",
    "\n",
    "print(\"Numerical:\",numerical.shape[1])\n",
    "print(\"Categorical:\",categorical.shape[1])"
   ]
  },
  {
   "cell_type": "code",
   "execution_count": 8,
   "id": "07fbe0c2",
   "metadata": {
    "scrolled": false
   },
   "outputs": [
    {
     "data": {
      "text/html": [
       "<div>\n",
       "<style scoped>\n",
       "    .dataframe tbody tr th:only-of-type {\n",
       "        vertical-align: middle;\n",
       "    }\n",
       "\n",
       "    .dataframe tbody tr th {\n",
       "        vertical-align: top;\n",
       "    }\n",
       "\n",
       "    .dataframe thead th {\n",
       "        text-align: right;\n",
       "    }\n",
       "</style>\n",
       "<table border=\"1\" class=\"dataframe\">\n",
       "  <thead>\n",
       "    <tr style=\"text-align: right;\">\n",
       "      <th></th>\n",
       "      <th>Feature</th>\n",
       "      <th>%Missing</th>\n",
       "    </tr>\n",
       "  </thead>\n",
       "  <tbody>\n",
       "    <tr>\n",
       "      <th>0</th>\n",
       "      <td>Lead Source</td>\n",
       "      <td>0.39</td>\n",
       "    </tr>\n",
       "    <tr>\n",
       "      <th>1</th>\n",
       "      <td>TotalVisits</td>\n",
       "      <td>1.48</td>\n",
       "    </tr>\n",
       "    <tr>\n",
       "      <th>2</th>\n",
       "      <td>Page Views Per Visit</td>\n",
       "      <td>1.48</td>\n",
       "    </tr>\n",
       "    <tr>\n",
       "      <th>3</th>\n",
       "      <td>Last Activity</td>\n",
       "      <td>1.11</td>\n",
       "    </tr>\n",
       "    <tr>\n",
       "      <th>4</th>\n",
       "      <td>Country</td>\n",
       "      <td>26.63</td>\n",
       "    </tr>\n",
       "    <tr>\n",
       "      <th>5</th>\n",
       "      <td>Specialization</td>\n",
       "      <td>15.56</td>\n",
       "    </tr>\n",
       "    <tr>\n",
       "      <th>6</th>\n",
       "      <td>How did you hear about X Education</td>\n",
       "      <td>23.89</td>\n",
       "    </tr>\n",
       "    <tr>\n",
       "      <th>7</th>\n",
       "      <td>What is your current occupation</td>\n",
       "      <td>29.11</td>\n",
       "    </tr>\n",
       "    <tr>\n",
       "      <th>8</th>\n",
       "      <td>What matters most to you in choosing a course</td>\n",
       "      <td>29.32</td>\n",
       "    </tr>\n",
       "    <tr>\n",
       "      <th>9</th>\n",
       "      <td>Tags</td>\n",
       "      <td>36.29</td>\n",
       "    </tr>\n",
       "    <tr>\n",
       "      <th>10</th>\n",
       "      <td>Lead Quality</td>\n",
       "      <td>51.59</td>\n",
       "    </tr>\n",
       "    <tr>\n",
       "      <th>11</th>\n",
       "      <td>Lead Profile</td>\n",
       "      <td>29.32</td>\n",
       "    </tr>\n",
       "    <tr>\n",
       "      <th>12</th>\n",
       "      <td>City</td>\n",
       "      <td>15.37</td>\n",
       "    </tr>\n",
       "    <tr>\n",
       "      <th>13</th>\n",
       "      <td>Asymmetrique Activity Index</td>\n",
       "      <td>45.65</td>\n",
       "    </tr>\n",
       "    <tr>\n",
       "      <th>14</th>\n",
       "      <td>Asymmetrique Profile Index</td>\n",
       "      <td>45.65</td>\n",
       "    </tr>\n",
       "    <tr>\n",
       "      <th>15</th>\n",
       "      <td>Asymmetrique Activity Score</td>\n",
       "      <td>45.65</td>\n",
       "    </tr>\n",
       "    <tr>\n",
       "      <th>16</th>\n",
       "      <td>Asymmetrique Profile Score</td>\n",
       "      <td>45.65</td>\n",
       "    </tr>\n",
       "  </tbody>\n",
       "</table>\n",
       "</div>"
      ],
      "text/plain": [
       "                                          Feature  %Missing\n",
       "0                                     Lead Source      0.39\n",
       "1                                     TotalVisits      1.48\n",
       "2                            Page Views Per Visit      1.48\n",
       "3                                   Last Activity      1.11\n",
       "4                                         Country     26.63\n",
       "5                                  Specialization     15.56\n",
       "6              How did you hear about X Education     23.89\n",
       "7                 What is your current occupation     29.11\n",
       "8   What matters most to you in choosing a course     29.32\n",
       "9                                            Tags     36.29\n",
       "10                                   Lead Quality     51.59\n",
       "11                                   Lead Profile     29.32\n",
       "12                                           City     15.37\n",
       "13                    Asymmetrique Activity Index     45.65\n",
       "14                     Asymmetrique Profile Index     45.65\n",
       "15                    Asymmetrique Activity Score     45.65\n",
       "16                     Asymmetrique Profile Score     45.65"
      ]
     },
     "execution_count": 8,
     "metadata": {},
     "output_type": "execute_result"
    }
   ],
   "source": [
    "#Checking the number of null values in the dataset\n",
    "cols_null=[(col,np.round(df[col].isna().sum()*100/df.shape[0],2)) for col in df.columns if df[col].isna().sum()>0]\n",
    "cols_null=pd.DataFrame(cols_null,).rename({0:'Feature',1:'%Missing'},axis=1)\n",
    "cols_null"
   ]
  },
  {
   "cell_type": "markdown",
   "id": "55fef3af",
   "metadata": {},
   "source": [
    "There are no features with missing values high enough to drop any columns"
   ]
  },
  {
   "cell_type": "code",
   "execution_count": 9,
   "id": "64dbc10b",
   "metadata": {},
   "outputs": [],
   "source": [
    "#Replacing the null values and 'Select' as a parameter in categorical features with NA. \n",
    "for col in categorical.columns:\n",
    "    if df[col].isna().sum()>0:\n",
    "        df[col]=df[col].fillna('NA')\n",
    "    df[col]=np.where(df[col]=='Select','NA',df[col])"
   ]
  },
  {
   "cell_type": "code",
   "execution_count": 10,
   "id": "4378588b",
   "metadata": {},
   "outputs": [],
   "source": [
    "#Replacing missing values with their respective median values\n",
    "for col in numerical.columns:\n",
    "    if df[col].isna().sum()>0:\n",
    "        df[col]=df[col].fillna(df[col].median())"
   ]
  },
  {
   "cell_type": "code",
   "execution_count": 11,
   "id": "32d82ef0",
   "metadata": {},
   "outputs": [
    {
     "name": "stdout",
     "output_type": "stream",
     "text": [
      "Total numbers of null values left in the dataset: 0\n"
     ]
    }
   ],
   "source": [
    "print(\"Total numbers of null values left in the dataset:\",df.isna().sum().sum())"
   ]
  },
  {
   "cell_type": "code",
   "execution_count": 12,
   "id": "6806f850",
   "metadata": {},
   "outputs": [
    {
     "data": {
      "image/png": "[encoded data removed]",
      "text/plain": [
       "<Figure size 300x100 with 1 Axes>"
      ]
     },
     "metadata": {},
     "output_type": "display_data"
    },
    {
     "data": {
      "image/png": "[encoded data removed]",
      "text/plain": [
       "<Figure size 300x100 with 1 Axes>"
      ]
     },
     "metadata": {},
     "output_type": "display_data"
    },
    {
     "data": {
      "image/png": "[encoded data removed]",
      "text/plain": [
       "<Figure size 300x100 with 1 Axes>"
      ]
     },
     "metadata": {},
     "output_type": "display_data"
    },
    {
     "data": {
      "image/png": "[encoded data removed]",
      "text/plain": [
       "<Figure size 300x100 with 1 Axes>"
      ]
     },
     "metadata": {},
     "output_type": "display_data"
    },
    {
     "data": {
      "image/png": "[encoded data removed]",
      "text/plain": [
       "<Figure size 300x100 with 1 Axes>"
      ]
     },
     "metadata": {},
     "output_type": "display_data"
    },
    {
     "data": {
      "image/png": "[encoded data removed]",
      "text/plain": [
       "<Figure size 300x100 with 1 Axes>"
      ]
     },
     "metadata": {},
     "output_type": "display_data"
    }
   ],
   "source": [
    "#Checking for outliers\n",
    "for col in numerical.columns:\n",
    "    fig=plt.figure(figsize=(3,1))\n",
    "    sns.boxplot(df[col])\n",
    "    plt.show()"
   ]
  },
  {
   "cell_type": "markdown",
   "id": "aeb9a3b9",
   "metadata": {},
   "source": [
    "\"Page per visit\" and \"Total Visits\" have outliers which need to be attended. \"Asymmetrique\" features also have outliers but since they consist of discrete values, not attending their outliers."
   ]
  },
  {
   "cell_type": "code",
   "execution_count": 13,
   "id": "757d8362",
   "metadata": {},
   "outputs": [],
   "source": [
    "#Replacing the outliers with the respective medians\n",
    "for col in [\"Page Views Per Visit\" , \"TotalVisits\"]:\n",
    "    Q1 = df[col].quantile(0.25)\n",
    "    Q3 = df[col].quantile(0.75)\n",
    "    \n",
    "    IQR = Q3 - Q1\n",
    "\n",
    "    lower_bound = Q1 - 1.5 * IQR\n",
    "    upper_bound = Q3 + 1.5 * IQR\n",
    "    \n",
    "    median = df[col].median()\n",
    "    df[col].loc[df[col] < lower_bound] = median\n",
    "    df[col].loc[df[col] > upper_bound] = median"
   ]
  },
  {
   "cell_type": "code",
   "execution_count": 14,
   "id": "5337658a",
   "metadata": {
    "scrolled": true
   },
   "outputs": [
    {
     "data": {
      "image/png": "[encoded data removed]",
      "text/plain": [
       "<Figure size 300x100 with 1 Axes>"
      ]
     },
     "metadata": {},
     "output_type": "display_data"
    },
    {
     "data": {
      "image/png": "[encoded data removed]",
      "text/plain": [
       "<Figure size 300x100 with 1 Axes>"
      ]
     },
     "metadata": {},
     "output_type": "display_data"
    }
   ],
   "source": [
    "#Confirming the change of values\n",
    "for col in [\"Page Views Per Visit\" , \"TotalVisits\"]:\n",
    "    fig=plt.figure(figsize=(3,1))\n",
    "    sns.boxplot(df[col])\n",
    "    plt.show()"
   ]
  },
  {
   "cell_type": "code",
   "execution_count": 15,
   "id": "9124d55e",
   "metadata": {
    "scrolled": true
   },
   "outputs": [
    {
     "data": {
      "text/plain": [
       "<AxesSubplot:>"
      ]
     },
     "execution_count": 15,
     "metadata": {},
     "output_type": "execute_result"
    },
    {
     "data": {
      "image/png": "[encoded data removed]",
      "text/plain": [
       "<Figure size 500x500 with 2 Axes>"
      ]
     },
     "metadata": {},
     "output_type": "display_data"
    }
   ],
   "source": [
    "fig=plt.figure(figsize=(5,5))\n",
    "sns.heatmap(data=numerical.corr(),annot=True)"
   ]
  },
  {
   "cell_type": "markdown",
   "id": "1b0979f5",
   "metadata": {},
   "source": [
    "Now checking the unique values in respective columns to eliminate any repetition, if present"
   ]
  },
  {
   "cell_type": "code",
   "execution_count": 16,
   "id": "5ce24f02",
   "metadata": {},
   "outputs": [],
   "source": [
    "def show_unique(feature):\n",
    "    print(df[feature].unique())\n",
    "#Some words are present with same implication but different strings. Fixing the variations\n",
    "def replace_string(feature, string1, string2):\n",
    "    df[feature]=np.where(df[feature]==string1,string2,df[feature])"
   ]
  },
  {
   "cell_type": "code",
   "execution_count": 17,
   "id": "e0491189",
   "metadata": {},
   "outputs": [
    {
     "name": "stdout",
     "output_type": "stream",
     "text": [
      "['Olark Chat' 'Organic Search' 'Direct Traffic' 'Google' 'Referral Sites'\n",
      " 'Welingak Website' 'Reference' 'google' 'Facebook' 'NA' 'blog'\n",
      " 'Pay per Click Ads' 'bing' 'Social Media' 'WeLearn' 'Click2call'\n",
      " 'Live Chat' 'welearnblog_Home' 'youtubechannel' 'testone' 'Press_Release'\n",
      " 'NC_EDM']\n"
     ]
    }
   ],
   "source": [
    "show_unique('Lead Source')"
   ]
  },
  {
   "cell_type": "code",
   "execution_count": 18,
   "id": "d059aef1",
   "metadata": {},
   "outputs": [],
   "source": [
    "replace_string('Lead Source', 'google','Google')\n",
    "replace_string('Lead Source','welearn_home','WeLearn')"
   ]
  },
  {
   "cell_type": "code",
   "execution_count": 19,
   "id": "97ee84e4",
   "metadata": {
    "scrolled": true
   },
   "outputs": [
    {
     "name": "stdout",
     "output_type": "stream",
     "text": [
      "['Page Visited on Website' 'Email Opened' 'Unreachable'\n",
      " 'Converted to Lead' 'Olark Chat Conversation' 'Email Bounced'\n",
      " 'Email Link Clicked' 'Form Submitted on Website' 'Unsubscribed'\n",
      " 'Had a Phone Conversation' 'View in browser link Clicked' 'NA'\n",
      " 'Approached upfront' 'SMS Sent' 'Visited Booth in Tradeshow'\n",
      " 'Resubscribed to emails' 'Email Received' 'Email Marked Spam']\n"
     ]
    }
   ],
   "source": [
    "show_unique('Last Activity')"
   ]
  },
  {
   "cell_type": "code",
   "execution_count": 20,
   "id": "9c7e0780",
   "metadata": {},
   "outputs": [
    {
     "name": "stdout",
     "output_type": "stream",
     "text": [
      "['NA' 'India' 'Russia' 'Kuwait' 'Oman' 'United Arab Emirates'\n",
      " 'United States' 'Australia' 'United Kingdom' 'Bahrain' 'Ghana'\n",
      " 'Singapore' 'Qatar' 'Saudi Arabia' 'Belgium' 'France' 'Sri Lanka' 'China'\n",
      " 'Canada' 'Netherlands' 'Sweden' 'Nigeria' 'Hong Kong' 'Germany'\n",
      " 'Asia/Pacific Region' 'Uganda' 'Kenya' 'Italy' 'South Africa' 'Tanzania'\n",
      " 'unknown' 'Malaysia' 'Liberia' 'Switzerland' 'Denmark' 'Philippines'\n",
      " 'Bangladesh' 'Vietnam' 'Indonesia']\n"
     ]
    }
   ],
   "source": [
    "show_unique('Country')"
   ]
  },
  {
   "cell_type": "code",
   "execution_count": 21,
   "id": "9d000565",
   "metadata": {},
   "outputs": [],
   "source": [
    "replace_string('Country','unknown','NA')"
   ]
  },
  {
   "cell_type": "code",
   "execution_count": 22,
   "id": "cd6927a4",
   "metadata": {},
   "outputs": [
    {
     "name": "stdout",
     "output_type": "stream",
     "text": [
      "['Interested in other courses' 'Ringing'\n",
      " 'Will revert after reading the email' 'NA' 'Lost to EINS'\n",
      " 'In confusion whether part time or DLP' 'Busy' 'switched off'\n",
      " 'in touch with EINS' 'Already a student' 'Diploma holder (Not Eligible)'\n",
      " 'Graduation in progress' 'Closed by Horizzon' 'number not provided'\n",
      " 'opp hangup' 'Not doing further education' 'invalid number'\n",
      " 'wrong number given' 'Interested  in full time MBA' 'Still Thinking'\n",
      " 'Lost to Others' 'Shall take in the next coming month' 'Lateral student'\n",
      " 'Interested in Next batch' 'Recognition issue (DEC approval)'\n",
      " 'Want to take admission but has financial problems'\n",
      " 'University not recognized']\n"
     ]
    }
   ],
   "source": [
    "show_unique('Tags')"
   ]
  },
  {
   "cell_type": "markdown",
   "id": "d1b544cb",
   "metadata": {},
   "source": [
    "# Analyzing the Trends"
   ]
  },
  {
   "cell_type": "code",
   "execution_count": 23,
   "id": "80cb9b04",
   "metadata": {},
   "outputs": [
    {
     "data": {
      "text/plain": [
       "Index(['Lead Origin', 'Lead Source', 'Do Not Email', 'Do Not Call',\n",
       "       'Converted', 'TotalVisits', 'Total Time Spent on Website',\n",
       "       'Page Views Per Visit', 'Last Activity', 'Country', 'Specialization',\n",
       "       'How did you hear about X Education', 'What is your current occupation',\n",
       "       'What matters most to you in choosing a course', 'Search',\n",
       "       'Newspaper Article', 'X Education Forums', 'Newspaper',\n",
       "       'Digital Advertisement', 'Through Recommendations', 'Tags',\n",
       "       'Lead Quality', 'Lead Profile', 'City', 'Asymmetrique Activity Index',\n",
       "       'Asymmetrique Profile Index', 'Asymmetrique Activity Score',\n",
       "       'Asymmetrique Profile Score', 'A free copy of Mastering The Interview',\n",
       "       'Last Notable Activity'],\n",
       "      dtype='object')"
      ]
     },
     "execution_count": 23,
     "metadata": {},
     "output_type": "execute_result"
    }
   ],
   "source": [
    "df.columns"
   ]
  },
  {
   "cell_type": "code",
   "execution_count": 24,
   "id": "0de84c40",
   "metadata": {
    "scrolled": true
   },
   "outputs": [
    {
     "data": {
      "text/plain": [
       "India                   6492\n",
       "NA                      2466\n",
       "United States             69\n",
       "United Arab Emirates      53\n",
       "Singapore                 24\n",
       "Name: Country, dtype: int64"
      ]
     },
     "execution_count": 24,
     "metadata": {},
     "output_type": "execute_result"
    }
   ],
   "source": [
    "df['Country'].value_counts().head()"
   ]
  },
  {
   "cell_type": "code",
   "execution_count": 25,
   "id": "8c595804",
   "metadata": {},
   "outputs": [
    {
     "data": {
      "text/plain": [
       "Landing Page Submission    4886\n",
       "API                        3580\n",
       "Lead Add Form               718\n",
       "Lead Import                  55\n",
       "Quick Add Form                1\n",
       "Name: Lead Origin, dtype: int64"
      ]
     },
     "execution_count": 25,
     "metadata": {},
     "output_type": "execute_result"
    }
   ],
   "source": [
    "df['Lead Origin'].value_counts().head()"
   ]
  },
  {
   "cell_type": "code",
   "execution_count": 26,
   "id": "781e9d52",
   "metadata": {},
   "outputs": [
    {
     "data": {
      "text/plain": [
       "Google            2873\n",
       "Direct Traffic    2543\n",
       "Olark Chat        1755\n",
       "Organic Search    1154\n",
       "Reference          534\n",
       "Name: Lead Source, dtype: int64"
      ]
     },
     "execution_count": 26,
     "metadata": {},
     "output_type": "execute_result"
    }
   ],
   "source": [
    "df['Lead Source'].value_counts().head()"
   ]
  },
  {
   "cell_type": "markdown",
   "id": "a9bc84a1",
   "metadata": {},
   "source": [
    "# Preparing the data for the model"
   ]
  },
  {
   "cell_type": "markdown",
   "id": "6ade7c3d",
   "metadata": {},
   "source": [
    "TotalVisits and Pages Views Per Visit show a comparitively high correlation."
   ]
  },
  {
   "cell_type": "code",
   "execution_count": 27,
   "id": "124c3878",
   "metadata": {},
   "outputs": [
    {
     "data": {
      "text/plain": [
       "(9240, 192)"
      ]
     },
     "execution_count": 27,
     "metadata": {},
     "output_type": "execute_result"
    }
   ],
   "source": [
    "for col in categorical.columns:\n",
    "    dummies = pd.get_dummies(df[col],prefix_sep='_',prefix=col,drop_first=True)\n",
    "    df = pd.concat([df, dummies], axis=1)\n",
    "    df.drop(col,axis=1,inplace=True)\n",
    "df.shape"
   ]
  },
  {
   "cell_type": "code",
   "execution_count": 28,
   "id": "c93397d2",
   "metadata": {},
   "outputs": [],
   "source": [
    "target=df['Converted']\n",
    "df.drop('Converted',axis=1,inplace=True)"
   ]
  },
  {
   "cell_type": "code",
   "execution_count": 29,
   "id": "358c9e1d",
   "metadata": {},
   "outputs": [],
   "source": [
    "X_train, X_test, y_train, y_test = train_test_split(df,target, test_size=0.2, random_state=42)"
   ]
  },
  {
   "cell_type": "code",
   "execution_count": 30,
   "id": "187ade2d",
   "metadata": {},
   "outputs": [],
   "source": [
    "scaler = StandardScaler()\n",
    "scaled_X=scaler.fit_transform(X_train)"
   ]
  },
  {
   "cell_type": "markdown",
   "id": "ae9d8641",
   "metadata": {},
   "source": [
    "scaled_X_df=pd.DataFrame(scaled_X, index=X_train.index, columns=X_train.columns)\n",
    "scaled_X_df"
   ]
  },
  {
   "cell_type": "code",
   "execution_count": 31,
   "id": "1c481001",
   "metadata": {},
   "outputs": [],
   "source": [
    "estimator=LogisticRegression()\n",
    "rfe = RFE(estimator, n_features_to_select=30)"
   ]
  },
  {
   "cell_type": "code",
   "execution_count": 32,
   "id": "e42957d8",
   "metadata": {},
   "outputs": [
    {
     "data": {
      "text/plain": [
       "RFE(estimator=LogisticRegression(), n_features_to_select=30)"
      ]
     },
     "execution_count": 32,
     "metadata": {},
     "output_type": "execute_result"
    }
   ],
   "source": [
    "rfe.fit(X_train,y_train)"
   ]
  },
  {
   "cell_type": "markdown",
   "id": "bc57b2e6",
   "metadata": {},
   "source": [
    "In the next cell, the columns were dropped after checking the VIF scores"
   ]
  },
  {
   "cell_type": "code",
   "execution_count": 33,
   "id": "d2977f59",
   "metadata": {},
   "outputs": [],
   "source": [
    "X_train_temp=X_train[X_train.columns[rfe.support_]]\n",
    "X_test_temp=X_test[X_train.columns[rfe.support_]]\n",
    "\n",
    "X_train_temp.drop('What matters most to you in choosing a course_NA',axis=1,inplace=True)\n",
    "X_train_temp.drop('Lead Source_Reference',axis=1,inplace=True)\n",
    "\n",
    "X_test_temp.drop('What matters most to you in choosing a course_NA',axis=1,inplace=True)\n",
    "X_test_temp.drop('Lead Source_Reference',axis=1,inplace=True)"
   ]
  },
  {
   "cell_type": "code",
   "execution_count": 34,
   "id": "1449d861",
   "metadata": {},
   "outputs": [
    {
     "data": {
      "text/html": [
       "<div>\n",
       "<style scoped>\n",
       "    .dataframe tbody tr th:only-of-type {\n",
       "        vertical-align: middle;\n",
       "    }\n",
       "\n",
       "    .dataframe tbody tr th {\n",
       "        vertical-align: top;\n",
       "    }\n",
       "\n",
       "    .dataframe thead th {\n",
       "        text-align: right;\n",
       "    }\n",
       "</style>\n",
       "<table border=\"1\" class=\"dataframe\">\n",
       "  <thead>\n",
       "    <tr style=\"text-align: right;\">\n",
       "      <th></th>\n",
       "      <th>feature</th>\n",
       "      <th>vif</th>\n",
       "    </tr>\n",
       "  </thead>\n",
       "  <tbody>\n",
       "    <tr>\n",
       "      <th>0</th>\n",
       "      <td>Lead Origin_Lead Add Form</td>\n",
       "      <td>0.088511</td>\n",
       "    </tr>\n",
       "    <tr>\n",
       "      <th>1</th>\n",
       "      <td>Lead Source_Facebook</td>\n",
       "      <td>1.017145</td>\n",
       "    </tr>\n",
       "    <tr>\n",
       "      <th>2</th>\n",
       "      <td>Lead Source_Welingak Website</td>\n",
       "      <td>1.322941</td>\n",
       "    </tr>\n",
       "    <tr>\n",
       "      <th>3</th>\n",
       "      <td>Do Not Email_Yes</td>\n",
       "      <td>0.131207</td>\n",
       "    </tr>\n",
       "    <tr>\n",
       "      <th>4</th>\n",
       "      <td>Last Activity_Converted to Lead</td>\n",
       "      <td>0.338506</td>\n",
       "    </tr>\n",
       "    <tr>\n",
       "      <th>5</th>\n",
       "      <td>Last Activity_Olark Chat Conversation</td>\n",
       "      <td>0.036521</td>\n",
       "    </tr>\n",
       "    <tr>\n",
       "      <th>6</th>\n",
       "      <td>Last Activity_SMS Sent</td>\n",
       "      <td>0.407192</td>\n",
       "    </tr>\n",
       "    <tr>\n",
       "      <th>7</th>\n",
       "      <td>What is your current occupation_NA</td>\n",
       "      <td>0.263549</td>\n",
       "    </tr>\n",
       "    <tr>\n",
       "      <th>8</th>\n",
       "      <td>Tags_Busy</td>\n",
       "      <td>1.103072</td>\n",
       "    </tr>\n",
       "    <tr>\n",
       "      <th>9</th>\n",
       "      <td>Tags_Closed by Horizzon</td>\n",
       "      <td>0.107747</td>\n",
       "    </tr>\n",
       "    <tr>\n",
       "      <th>10</th>\n",
       "      <td>Tags_Diploma holder (Not Eligible)</td>\n",
       "      <td>1.045895</td>\n",
       "    </tr>\n",
       "    <tr>\n",
       "      <th>11</th>\n",
       "      <td>Tags_Interested in other courses</td>\n",
       "      <td>0.516505</td>\n",
       "    </tr>\n",
       "    <tr>\n",
       "      <th>12</th>\n",
       "      <td>Tags_Lost to EINS</td>\n",
       "      <td>1.130254</td>\n",
       "    </tr>\n",
       "    <tr>\n",
       "      <th>13</th>\n",
       "      <td>Tags_NA</td>\n",
       "      <td>0.351393</td>\n",
       "    </tr>\n",
       "    <tr>\n",
       "      <th>14</th>\n",
       "      <td>Tags_Not doing further education</td>\n",
       "      <td>1.216022</td>\n",
       "    </tr>\n",
       "    <tr>\n",
       "      <th>15</th>\n",
       "      <td>Tags_Ringing</td>\n",
       "      <td>0.360934</td>\n",
       "    </tr>\n",
       "    <tr>\n",
       "      <th>16</th>\n",
       "      <td>Tags_Will revert after reading the email</td>\n",
       "      <td>0.118688</td>\n",
       "    </tr>\n",
       "    <tr>\n",
       "      <th>17</th>\n",
       "      <td>Tags_invalid number</td>\n",
       "      <td>1.061965</td>\n",
       "    </tr>\n",
       "    <tr>\n",
       "      <th>18</th>\n",
       "      <td>Tags_number not provided</td>\n",
       "      <td>1.027082</td>\n",
       "    </tr>\n",
       "    <tr>\n",
       "      <th>19</th>\n",
       "      <td>Tags_opp hangup</td>\n",
       "      <td>1.019006</td>\n",
       "    </tr>\n",
       "    <tr>\n",
       "      <th>20</th>\n",
       "      <td>Tags_switched off</td>\n",
       "      <td>1.153114</td>\n",
       "    </tr>\n",
       "    <tr>\n",
       "      <th>21</th>\n",
       "      <td>Tags_wrong number given</td>\n",
       "      <td>1.040782</td>\n",
       "    </tr>\n",
       "    <tr>\n",
       "      <th>22</th>\n",
       "      <td>Lead Quality_Worst</td>\n",
       "      <td>0.930613</td>\n",
       "    </tr>\n",
       "    <tr>\n",
       "      <th>23</th>\n",
       "      <td>Lead Profile_NA</td>\n",
       "      <td>0.108299</td>\n",
       "    </tr>\n",
       "    <tr>\n",
       "      <th>24</th>\n",
       "      <td>Lead Profile_Student of SomeSchool</td>\n",
       "      <td>1.751104</td>\n",
       "    </tr>\n",
       "    <tr>\n",
       "      <th>25</th>\n",
       "      <td>Last Notable Activity_Email Link Clicked</td>\n",
       "      <td>1.048991</td>\n",
       "    </tr>\n",
       "    <tr>\n",
       "      <th>26</th>\n",
       "      <td>Last Notable Activity_Modified</td>\n",
       "      <td>0.158734</td>\n",
       "    </tr>\n",
       "    <tr>\n",
       "      <th>27</th>\n",
       "      <td>Last Notable Activity_SMS Sent</td>\n",
       "      <td>0.745316</td>\n",
       "    </tr>\n",
       "  </tbody>\n",
       "</table>\n",
       "</div>"
      ],
      "text/plain": [
       "                                     feature       vif\n",
       "0                  Lead Origin_Lead Add Form  0.088511\n",
       "1                       Lead Source_Facebook  1.017145\n",
       "2               Lead Source_Welingak Website  1.322941\n",
       "3                           Do Not Email_Yes  0.131207\n",
       "4            Last Activity_Converted to Lead  0.338506\n",
       "5      Last Activity_Olark Chat Conversation  0.036521\n",
       "6                     Last Activity_SMS Sent  0.407192\n",
       "7         What is your current occupation_NA  0.263549\n",
       "8                                  Tags_Busy  1.103072\n",
       "9                    Tags_Closed by Horizzon  0.107747\n",
       "10        Tags_Diploma holder (Not Eligible)  1.045895\n",
       "11          Tags_Interested in other courses  0.516505\n",
       "12                         Tags_Lost to EINS  1.130254\n",
       "13                                   Tags_NA  0.351393\n",
       "14          Tags_Not doing further education  1.216022\n",
       "15                              Tags_Ringing  0.360934\n",
       "16  Tags_Will revert after reading the email  0.118688\n",
       "17                       Tags_invalid number  1.061965\n",
       "18                  Tags_number not provided  1.027082\n",
       "19                           Tags_opp hangup  1.019006\n",
       "20                         Tags_switched off  1.153114\n",
       "21                   Tags_wrong number given  1.040782\n",
       "22                        Lead Quality_Worst  0.930613\n",
       "23                           Lead Profile_NA  0.108299\n",
       "24        Lead Profile_Student of SomeSchool  1.751104\n",
       "25  Last Notable Activity_Email Link Clicked  1.048991\n",
       "26            Last Notable Activity_Modified  0.158734\n",
       "27            Last Notable Activity_SMS Sent  0.745316"
      ]
     },
     "execution_count": 34,
     "metadata": {},
     "output_type": "execute_result"
    }
   ],
   "source": [
    "from statsmodels.stats.outliers_influence import variance_inflation_factor\n",
    "vif_df=pd.DataFrame()\n",
    "for i in range(X_train_temp.shape[1]):\n",
    "    X = X_train_temp.values\n",
    "    y =y_train.values\n",
    "    vif = variance_inflation_factor(X, i)\n",
    "    vif_df=vif_df.append({'feature': X_train_temp.columns[i], 'vif': vif}, ignore_index=True)\n",
    "vif_df"
   ]
  },
  {
   "cell_type": "code",
   "execution_count": 35,
   "id": "b04ad7e9",
   "metadata": {},
   "outputs": [
    {
     "data": {
      "text/html": [
       "<table class=\"simpletable\">\n",
       "<caption>Generalized Linear Model Regression Results</caption>\n",
       "<tr>\n",
       "  <th>Dep. Variable:</th>       <td>Converted</td>    <th>  No. Observations:  </th>  <td>  7392</td> \n",
       "</tr>\n",
       "<tr>\n",
       "  <th>Model:</th>                  <td>GLM</td>       <th>  Df Residuals:      </th>  <td>  7363</td> \n",
       "</tr>\n",
       "<tr>\n",
       "  <th>Model Family:</th>        <td>Binomial</td>     <th>  Df Model:          </th>  <td>    28</td> \n",
       "</tr>\n",
       "<tr>\n",
       "  <th>Link Function:</th>         <td>Logit</td>      <th>  Scale:             </th> <td>  1.0000</td>\n",
       "</tr>\n",
       "<tr>\n",
       "  <th>Method:</th>                <td>IRLS</td>       <th>  Log-Likelihood:    </th> <td> -1368.6</td>\n",
       "</tr>\n",
       "<tr>\n",
       "  <th>Date:</th>            <td>Tue, 21 Mar 2023</td> <th>  Deviance:          </th> <td>  2737.1</td>\n",
       "</tr>\n",
       "<tr>\n",
       "  <th>Time:</th>                <td>14:05:18</td>     <th>  Pearson chi2:      </th> <td>1.39e+04</td>\n",
       "</tr>\n",
       "<tr>\n",
       "  <th>No. Iterations:</th>         <td>24</td>        <th>  Pseudo R-squ. (CS):</th>  <td>0.6168</td> \n",
       "</tr>\n",
       "<tr>\n",
       "  <th>Covariance Type:</th>     <td>nonrobust</td>    <th>                     </th>     <td> </td>   \n",
       "</tr>\n",
       "</table>\n",
       "<table class=\"simpletable\">\n",
       "<tr>\n",
       "                      <td></td>                        <th>coef</th>     <th>std err</th>      <th>z</th>      <th>P>|z|</th>  <th>[0.025</th>    <th>0.975]</th>  \n",
       "</tr>\n",
       "<tr>\n",
       "  <th>const</th>                                    <td>   -1.8095</td> <td>    0.263</td> <td>   -6.871</td> <td> 0.000</td> <td>   -2.326</td> <td>   -1.293</td>\n",
       "</tr>\n",
       "<tr>\n",
       "  <th>Lead Origin_Lead Add Form</th>                <td>   -0.3753</td> <td>    0.321</td> <td>   -1.170</td> <td> 0.242</td> <td>   -1.004</td> <td>    0.254</td>\n",
       "</tr>\n",
       "<tr>\n",
       "  <th>Lead Source_Facebook</th>                     <td>   -1.2774</td> <td>    0.650</td> <td>   -1.966</td> <td> 0.049</td> <td>   -2.551</td> <td>   -0.004</td>\n",
       "</tr>\n",
       "<tr>\n",
       "  <th>Lead Source_Welingak Website</th>             <td>    3.5835</td> <td>    1.066</td> <td>    3.362</td> <td> 0.001</td> <td>    1.494</td> <td>    5.673</td>\n",
       "</tr>\n",
       "<tr>\n",
       "  <th>Do Not Email_Yes</th>                         <td>   -1.1604</td> <td>    0.223</td> <td>   -5.192</td> <td> 0.000</td> <td>   -1.598</td> <td>   -0.722</td>\n",
       "</tr>\n",
       "<tr>\n",
       "  <th>Last Activity_Converted to Lead</th>          <td>   -0.9166</td> <td>    0.344</td> <td>   -2.663</td> <td> 0.008</td> <td>   -1.591</td> <td>   -0.242</td>\n",
       "</tr>\n",
       "<tr>\n",
       "  <th>Last Activity_Olark Chat Conversation</th>    <td>   -0.8977</td> <td>    0.223</td> <td>   -4.029</td> <td> 0.000</td> <td>   -1.334</td> <td>   -0.461</td>\n",
       "</tr>\n",
       "<tr>\n",
       "  <th>Last Activity_SMS Sent</th>                   <td>    1.2287</td> <td>    0.228</td> <td>    5.380</td> <td> 0.000</td> <td>    0.781</td> <td>    1.676</td>\n",
       "</tr>\n",
       "<tr>\n",
       "  <th>What is your current occupation_NA</th>       <td>   -2.6749</td> <td>    0.140</td> <td>  -19.078</td> <td> 0.000</td> <td>   -2.950</td> <td>   -2.400</td>\n",
       "</tr>\n",
       "<tr>\n",
       "  <th>Tags_Busy</th>                                <td>    1.7296</td> <td>    0.319</td> <td>    5.430</td> <td> 0.000</td> <td>    1.105</td> <td>    2.354</td>\n",
       "</tr>\n",
       "<tr>\n",
       "  <th>Tags_Closed by Horizzon</th>                  <td>    7.9605</td> <td>    0.773</td> <td>   10.296</td> <td> 0.000</td> <td>    6.445</td> <td>    9.476</td>\n",
       "</tr>\n",
       "<tr>\n",
       "  <th>Tags_Diploma holder (Not Eligible)</th>       <td>  -22.1330</td> <td> 3.11e+04</td> <td>   -0.001</td> <td> 0.999</td> <td>-6.11e+04</td> <td>  6.1e+04</td>\n",
       "</tr>\n",
       "<tr>\n",
       "  <th>Tags_Interested in other courses</th>         <td>   -0.5815</td> <td>    0.399</td> <td>   -1.459</td> <td> 0.145</td> <td>   -1.363</td> <td>    0.200</td>\n",
       "</tr>\n",
       "<tr>\n",
       "  <th>Tags_Lost to EINS</th>                        <td>    8.7060</td> <td>    0.605</td> <td>   14.383</td> <td> 0.000</td> <td>    7.520</td> <td>    9.892</td>\n",
       "</tr>\n",
       "<tr>\n",
       "  <th>Tags_NA</th>                                  <td>    3.1934</td> <td>    0.273</td> <td>   11.682</td> <td> 0.000</td> <td>    2.658</td> <td>    3.729</td>\n",
       "</tr>\n",
       "<tr>\n",
       "  <th>Tags_Not doing further education</th>         <td>   -1.4151</td> <td>    1.060</td> <td>   -1.335</td> <td> 0.182</td> <td>   -3.492</td> <td>    0.662</td>\n",
       "</tr>\n",
       "<tr>\n",
       "  <th>Tags_Ringing</th>                             <td>   -2.4234</td> <td>    0.326</td> <td>   -7.438</td> <td> 0.000</td> <td>   -3.062</td> <td>   -1.785</td>\n",
       "</tr>\n",
       "<tr>\n",
       "  <th>Tags_Will revert after reading the email</th> <td>    5.5483</td> <td>    0.285</td> <td>   19.471</td> <td> 0.000</td> <td>    4.990</td> <td>    6.107</td>\n",
       "</tr>\n",
       "<tr>\n",
       "  <th>Tags_invalid number</th>                      <td>   -2.4952</td> <td>    1.056</td> <td>   -2.362</td> <td> 0.018</td> <td>   -4.566</td> <td>   -0.425</td>\n",
       "</tr>\n",
       "<tr>\n",
       "  <th>Tags_number not provided</th>                 <td>  -23.8442</td> <td> 3.74e+04</td> <td>   -0.001</td> <td> 0.999</td> <td>-7.34e+04</td> <td> 7.33e+04</td>\n",
       "</tr>\n",
       "<tr>\n",
       "  <th>Tags_opp hangup</th>                          <td>   -1.3659</td> <td>    0.818</td> <td>   -1.670</td> <td> 0.095</td> <td>   -2.969</td> <td>    0.237</td>\n",
       "</tr>\n",
       "<tr>\n",
       "  <th>Tags_switched off</th>                        <td>   -3.5453</td> <td>    0.763</td> <td>   -4.647</td> <td> 0.000</td> <td>   -5.041</td> <td>   -2.050</td>\n",
       "</tr>\n",
       "<tr>\n",
       "  <th>Tags_wrong number given</th>                  <td>  -24.0586</td> <td> 2.85e+04</td> <td>   -0.001</td> <td> 0.999</td> <td> -5.6e+04</td> <td> 5.59e+04</td>\n",
       "</tr>\n",
       "<tr>\n",
       "  <th>Lead Quality_Worst</th>                       <td>   -1.7292</td> <td>    0.647</td> <td>   -2.673</td> <td> 0.008</td> <td>   -2.997</td> <td>   -0.461</td>\n",
       "</tr>\n",
       "<tr>\n",
       "  <th>Lead Profile_NA</th>                          <td>   -0.9030</td> <td>    0.182</td> <td>   -4.967</td> <td> 0.000</td> <td>   -1.259</td> <td>   -0.547</td>\n",
       "</tr>\n",
       "<tr>\n",
       "  <th>Lead Profile_Student of SomeSchool</th>       <td>   -2.2999</td> <td>    0.912</td> <td>   -2.522</td> <td> 0.012</td> <td>   -4.087</td> <td>   -0.513</td>\n",
       "</tr>\n",
       "<tr>\n",
       "  <th>Last Notable Activity_Email Link Clicked</th> <td>   -0.8299</td> <td>    0.410</td> <td>   -2.023</td> <td> 0.043</td> <td>   -1.634</td> <td>   -0.026</td>\n",
       "</tr>\n",
       "<tr>\n",
       "  <th>Last Notable Activity_Modified</th>           <td>   -0.7796</td> <td>    0.164</td> <td>   -4.756</td> <td> 0.000</td> <td>   -1.101</td> <td>   -0.458</td>\n",
       "</tr>\n",
       "<tr>\n",
       "  <th>Last Notable Activity_SMS Sent</th>           <td>    1.3091</td> <td>    0.258</td> <td>    5.071</td> <td> 0.000</td> <td>    0.803</td> <td>    1.815</td>\n",
       "</tr>\n",
       "</table>"
      ],
      "text/plain": [
       "<class 'statsmodels.iolib.summary.Summary'>\n",
       "\"\"\"\n",
       "                 Generalized Linear Model Regression Results                  \n",
       "==============================================================================\n",
       "Dep. Variable:              Converted   No. Observations:                 7392\n",
       "Model:                            GLM   Df Residuals:                     7363\n",
       "Model Family:                Binomial   Df Model:                           28\n",
       "Link Function:                  Logit   Scale:                          1.0000\n",
       "Method:                          IRLS   Log-Likelihood:                -1368.6\n",
       "Date:                Tue, 21 Mar 2023   Deviance:                       2737.1\n",
       "Time:                        14:05:18   Pearson chi2:                 1.39e+04\n",
       "No. Iterations:                    24   Pseudo R-squ. (CS):             0.6168\n",
       "Covariance Type:            nonrobust                                         \n",
       "============================================================================================================\n",
       "                                               coef    std err          z      P>|z|      [0.025      0.975]\n",
       "------------------------------------------------------------------------------------------------------------\n",
       "const                                       -1.8095      0.263     -6.871      0.000      -2.326      -1.293\n",
       "Lead Origin_Lead Add Form                   -0.3753      0.321     -1.170      0.242      -1.004       0.254\n",
       "Lead Source_Facebook                        -1.2774      0.650     -1.966      0.049      -2.551      -0.004\n",
       "Lead Source_Welingak Website                 3.5835      1.066      3.362      0.001       1.494       5.673\n",
       "Do Not Email_Yes                            -1.1604      0.223     -5.192      0.000      -1.598      -0.722\n",
       "Last Activity_Converted to Lead             -0.9166      0.344     -2.663      0.008      -1.591      -0.242\n",
       "Last Activity_Olark Chat Conversation       -0.8977      0.223     -4.029      0.000      -1.334      -0.461\n",
       "Last Activity_SMS Sent                       1.2287      0.228      5.380      0.000       0.781       1.676\n",
       "What is your current occupation_NA          -2.6749      0.140    -19.078      0.000      -2.950      -2.400\n",
       "Tags_Busy                                    1.7296      0.319      5.430      0.000       1.105       2.354\n",
       "Tags_Closed by Horizzon                      7.9605      0.773     10.296      0.000       6.445       9.476\n",
       "Tags_Diploma holder (Not Eligible)         -22.1330   3.11e+04     -0.001      0.999   -6.11e+04     6.1e+04\n",
       "Tags_Interested in other courses            -0.5815      0.399     -1.459      0.145      -1.363       0.200\n",
       "Tags_Lost to EINS                            8.7060      0.605     14.383      0.000       7.520       9.892\n",
       "Tags_NA                                      3.1934      0.273     11.682      0.000       2.658       3.729\n",
       "Tags_Not doing further education            -1.4151      1.060     -1.335      0.182      -3.492       0.662\n",
       "Tags_Ringing                                -2.4234      0.326     -7.438      0.000      -3.062      -1.785\n",
       "Tags_Will revert after reading the email     5.5483      0.285     19.471      0.000       4.990       6.107\n",
       "Tags_invalid number                         -2.4952      1.056     -2.362      0.018      -4.566      -0.425\n",
       "Tags_number not provided                   -23.8442   3.74e+04     -0.001      0.999   -7.34e+04    7.33e+04\n",
       "Tags_opp hangup                             -1.3659      0.818     -1.670      0.095      -2.969       0.237\n",
       "Tags_switched off                           -3.5453      0.763     -4.647      0.000      -5.041      -2.050\n",
       "Tags_wrong number given                    -24.0586   2.85e+04     -0.001      0.999    -5.6e+04    5.59e+04\n",
       "Lead Quality_Worst                          -1.7292      0.647     -2.673      0.008      -2.997      -0.461\n",
       "Lead Profile_NA                             -0.9030      0.182     -4.967      0.000      -1.259      -0.547\n",
       "Lead Profile_Student of SomeSchool          -2.2999      0.912     -2.522      0.012      -4.087      -0.513\n",
       "Last Notable Activity_Email Link Clicked    -0.8299      0.410     -2.023      0.043      -1.634      -0.026\n",
       "Last Notable Activity_Modified              -0.7796      0.164     -4.756      0.000      -1.101      -0.458\n",
       "Last Notable Activity_SMS Sent               1.3091      0.258      5.071      0.000       0.803       1.815\n",
       "============================================================================================================\n",
       "\"\"\""
      ]
     },
     "execution_count": 35,
     "metadata": {},
     "output_type": "execute_result"
    }
   ],
   "source": [
    "X_train_sm = sm.add_constant(X_train_temp)\n",
    "logm1 = sm.GLM(y_train,X_train_sm, family = sm.families.Binomial())\n",
    "res = logm1.fit()\n",
    "res.summary()"
   ]
  },
  {
   "cell_type": "code",
   "execution_count": 36,
   "id": "08c02570",
   "metadata": {},
   "outputs": [
    {
     "data": {
      "text/plain": [
       "LogisticRegression()"
      ]
     },
     "execution_count": 36,
     "metadata": {},
     "output_type": "execute_result"
    }
   ],
   "source": [
    "estimator.fit(X_train_temp,y_train)"
   ]
  },
  {
   "cell_type": "code",
   "execution_count": 37,
   "id": "58643eea",
   "metadata": {},
   "outputs": [],
   "source": [
    "probabilities=estimator.predict_proba(X_test_temp)\n",
    "new_threshold = 0.4\n",
    "y_pred = np.where(probabilities[:, 1] > new_threshold, 1, 0)"
   ]
  },
  {
   "cell_type": "code",
   "execution_count": 38,
   "id": "6071e826",
   "metadata": {},
   "outputs": [
    {
     "data": {
      "text/plain": [
       "0    1104\n",
       "1     744\n",
       "dtype: int64"
      ]
     },
     "execution_count": 38,
     "metadata": {},
     "output_type": "execute_result"
    }
   ],
   "source": [
    "pd.Series(y_pred).value_counts()"
   ]
  },
  {
   "cell_type": "code",
   "execution_count": 39,
   "id": "f8c32677",
   "metadata": {
    "scrolled": true
   },
   "outputs": [
    {
     "name": "stdout",
     "output_type": "stream",
     "text": [
      "Confusion Matrix:\n",
      "[[1040   67]\n",
      " [  64  677]]\n",
      "Accuracy: 0.93\n",
      "Precision: 0.94\n",
      "Recall (Sensitivity): 0.94\n",
      "Specificity: 0.91\n",
      "F1 Score: 0.94\n"
     ]
    }
   ],
   "source": [
    "# Calculate performance metrics\n",
    "\n",
    "\n",
    "cm = confusion_matrix(y_test, y_pred)\n",
    "\n",
    "tp = cm[0, 0]\n",
    "tn = cm[1, 1]\n",
    "fp = cm[0, 1]\n",
    "fn = cm[1, 0]\n",
    "\n",
    "accuracy = (tp + tn) / (tp + tn + fp + fn)\n",
    "precision = tp / (tp + fp)\n",
    "recall = tp / (tp + fn)\n",
    "specificity = tn / (tn + fp)\n",
    "f1_score = 2 * precision * recall / (precision + recall)\n",
    "\n",
    "# Print confusion matrix and performance metrics\n",
    "print(\"Confusion Matrix:\")\n",
    "print(cm)\n",
    "print(\"Accuracy: {:.2f}\".format(accuracy))\n",
    "print(\"Precision: {:.2f}\".format(precision))\n",
    "print(\"Recall (Sensitivity): {:.2f}\".format(recall))\n",
    "print(\"Specificity: {:.2f}\".format(specificity))\n",
    "print(\"F1 Score: {:.2f}\".format(f1_score))"
   ]
  },
  {
   "cell_type": "markdown",
   "id": "a6c7f152",
   "metadata": {},
   "source": [
    "As per the business scenario here, Senstivity is a more relevant metric here. For this model the senstivity comes out to be ~0.94"
   ]
  },
  {
   "cell_type": "code",
   "execution_count": 40,
   "id": "69eb22e7",
   "metadata": {},
   "outputs": [
    {
     "data": {
      "text/plain": [
       "<AxesSubplot:>"
      ]
     },
     "execution_count": 40,
     "metadata": {},
     "output_type": "execute_result"
    },
    {
     "data": {
      "image/png": "[encoded data removed]",
      "text/plain": [
       "<Figure size 640x480 with 1 Axes>"
      ]
     },
     "metadata": {},
     "output_type": "display_data"
    }
   ],
   "source": [
    "sns.stripplot(probabilities[:, 1]*100)"
   ]
  },
  {
   "cell_type": "code",
   "execution_count": 41,
   "id": "8c04b470",
   "metadata": {},
   "outputs": [
    {
     "data": {
      "image/png": "[encoded data removed]",
      "text/plain": [
       "<Figure size 500x500 with 1 Axes>"
      ]
     },
     "metadata": {},
     "output_type": "display_data"
    }
   ],
   "source": [
    "def draw_roc( actual, probs ):\n",
    "    fpr, tpr, thresholds = metrics.roc_curve( actual, probs,\n",
    "                                              drop_intermediate = False )\n",
    "    auc_score = metrics.roc_auc_score( actual, probs )\n",
    "    plt.figure(figsize=(5, 5))\n",
    "    plt.plot( fpr, tpr, label='ROC curve (area = %0.2f)' % auc_score )\n",
    "    plt.plot([0, 1], [0, 1], 'k--')\n",
    "    plt.xlim([0.0, 1.0])\n",
    "    plt.ylim([0.0, 1.05])\n",
    "    plt.xlabel('False Positive Rate or [1 - True Negative Rate]')\n",
    "    plt.ylabel('True Positive Rate')\n",
    "    plt.title('Receiver operating characteristic example')\n",
    "    plt.legend(loc=\"lower right\")\n",
    "    plt.show()\n",
    "\n",
    "    return None\n",
    "\n",
    "     \n",
    "\n",
    "fpr, tpr, thresholds = metrics.roc_curve( y_test,probabilities[:, 1], drop_intermediate = False )\n",
    "     \n",
    "\n",
    "draw_roc(y_test, probabilities[:, 1])"
   ]
  },
  {
   "cell_type": "code",
   "execution_count": null,
   "id": "f667f025",
   "metadata": {},
   "outputs": [],
   "source": []
  }
 ],
 "metadata": {
  "kernelspec": {
   "display_name": "Python 3 (ipykernel)",
   "language": "python",
   "name": "python3"
  },
  "language_info": {
   "codemirror_mode": {
    "name": "ipython",
    "version": 3
   },
   "file_extension": ".py",
   "mimetype": "text/x-python",
   "name": "python",
   "nbconvert_exporter": "python",
   "pygments_lexer": "ipython3",
   "version": "3.9.13"
  }
 },
 "nbformat": 4,
 "nbformat_minor": 5
}
